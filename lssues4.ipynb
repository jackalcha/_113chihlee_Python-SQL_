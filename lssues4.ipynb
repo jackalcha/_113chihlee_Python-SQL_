{
 "cells": [
  {
   "cell_type": "code",
   "execution_count": 17,
   "metadata": {},
   "outputs": [
    {
     "data": {
      "text/plain": [
       "True"
      ]
     },
     "execution_count": 17,
     "metadata": {},
     "output_type": "execute_result"
    }
   ],
   "source": [
    "#建立變數\n",
    "\n",
    "import psycopg2\n",
    "import os\n",
    "from dotenv import load_dotenv\n",
    "\n",
    "#初始化環境變數\n",
    "load_dotenv()"
   ]
  },
  {
   "cell_type": "code",
   "execution_count": 4,
   "metadata": {},
   "outputs": [],
   "source": [
    "#建立資料表\n",
    "\n",
    "#使用環境變數POSTGRE_PASSWORD,取得密碼,並建立connect(連線)的實體\n",
    "conn = psycopg2.connect(os.environ['POSTGRE_PASSWORD'])\n",
    "\n",
    "# 建立cursor實體,準備執行SQL\n",
    "cur = conn.cursor()\n",
    "\n",
    "sql = '''\n",
    "CREATE TABLE IF NOT EXISTS 客戶(\n",
    "\t客戶_id SERIAL,\n",
    "\t客戶名稱 VARCHAR(255) NOT NULL,\n",
    "\tPRIMARY KEY(客戶_id)\n",
    ");\n",
    "\n",
    "CREATE TABLE IF NOT EXISTS 聯絡人(\n",
    "\t聯絡人id SERIAL,\n",
    "\t客戶id INT,\n",
    "\t聯絡人姓名 VARCHAR(255) NOT NULL,\n",
    "\t電話 VARCHAR(15),\n",
    "\t郵件 VARCHAR(100),\n",
    "\tPRIMARY KEY(聯絡人id),\n",
    "\tFOREIGN KEY(客戶id) REFERENCES 客戶(客戶_id)\n",
    ");\n",
    "'''\n",
    "\n",
    "#執行sql\n",
    "cur.execute(sql)\n",
    "\n",
    "#確認SQL可以執行\n",
    "conn.commit()\n",
    "\n",
    "#關閉cursor\n",
    "cur.close()\n",
    "\n",
    "#關閉連線\n",
    "conn.close()\n"
   ]
  },
  {
   "cell_type": "code",
   "execution_count": 18,
   "metadata": {},
   "outputs": [],
   "source": [
    "#新增資料 客戶\n",
    "\n",
    "#使用環境變數POSTGRE_PASSWORD,取得密碼,並建立connect(連線)的實體\n",
    "conn = psycopg2.connect(os.environ['POSTGRE_PASSWORD'])\n",
    "\n",
    "# 建立cursor實體,準備執行SQL\n",
    "cur = conn.cursor()\n",
    "\n",
    "sql = '''\n",
    "INSERT INTO 客戶(客戶名稱) VALUES('遠傳電信'),('台灣大車隊');\n",
    "'''\n",
    "\n",
    "#執行sql\n",
    "cur.execute(sql)\n",
    "\n",
    "#確認SQL可以執行\n",
    "conn.commit()\n",
    "\n",
    "#關閉cursor\n",
    "cur.close()\n",
    "\n",
    "#關閉連線\n",
    "conn.close()"
   ]
  },
  {
   "cell_type": "code",
   "execution_count": 20,
   "metadata": {},
   "outputs": [],
   "source": [
    "#新增多筆資料 聯絡人\n",
    "\n",
    "#使用環境變數POSTGRE_PASSWORD,取得密碼,並建立connect(連線)的實體\n",
    "conn = psycopg2.connect(os.environ['POSTGRE_PASSWORD'])\n",
    "\n",
    "# 建立cursor實體,準備執行SQL\n",
    "cur = conn.cursor()\n",
    "\n",
    "sql = '''\n",
    "INSERT INTO 聯絡人(客戶id,聯絡人姓名,電話,郵件)\n",
    "VALUES(%(客戶id)s,%(聯絡人姓名)s,%(電話)s,%(郵件)s);\n",
    "'''\n",
    "\n",
    "#執行sql\n",
    "data:list[dict] = [\n",
    "    {'客戶id':1,'聯絡人姓名':'John Doe', '電話':'(408)-111-1234', '郵件':'john.doe@bluebird.dev'},\n",
    "    {'客戶id':1,'聯絡人姓名':'John Doe', '電話':'(408)-111-1235', '郵件':'john.doe@bluebird.dev'},\n",
    "    {'客戶id':2,'聯絡人姓名':'David Wright', '電話':'(408)-222-1234', '郵件':'david.wright@dolphin.dev'},\n",
    "]\n",
    "for item in data:\n",
    "    cur.execute(sql,item)\n",
    "\n",
    "#確認SQL可以執行\n",
    "conn.commit()\n",
    "\n",
    "#關閉cursor\n",
    "cur.close()\n",
    "\n",
    "#關閉連線\n",
    "conn.close()"
   ]
  },
  {
   "cell_type": "code",
   "execution_count": 21,
   "metadata": {},
   "outputs": [
    {
     "name": "stdout",
     "output_type": "stream",
     "text": [
      "[(1, 1, 'John Doe', '(408)-111-1234', 'john.doe@bluebird.dev'), (2, 1, 'John Doe', '(408)-111-1235', 'john.doe@bluebird.dev'), (3, 2, 'David Wright', '(408)-222-1234', 'david.wright@dolphin.dev'), (4, 1, 'John Doe', '(408)-111-1234', 'john.doe@bluebird.dev'), (5, 1, 'John Doe', '(408)-111-1235', 'john.doe@bluebird.dev'), (6, 2, 'David Wright', '(408)-222-1234', 'david.wright@dolphin.dev')]\n"
     ]
    }
   ],
   "source": [
    "#顯示資料表\n",
    "#使用環境變數POSTGRE_PASSWORD,取得密碼,並建立connect(連線)的實體\n",
    "conn = psycopg2.connect(os.environ['POSTGRE_PASSWORD'])\n",
    "\n",
    "# 建立cursor實體,準備執行SQL\n",
    "cur = conn.cursor()\n",
    "\n",
    "sql = '''\n",
    "SELECT * FROM 聯絡人;\n",
    "'''\n",
    "\n",
    "#執行sql\n",
    "cur.execute(sql)\n",
    "\n",
    "#取得資料\n",
    "print(cur.fetchall())\n",
    "\n",
    "#確認SQL可以執行\n",
    "conn.commit()\n",
    "\n",
    "#關閉cursor\n",
    "cur.close()\n",
    "\n",
    "#關閉連線\n",
    "conn.close()"
   ]
  }
 ],
 "metadata": {
  "kernelspec": {
   "display_name": "Python 3",
   "language": "python",
   "name": "python3"
  },
  "language_info": {
   "codemirror_mode": {
    "name": "ipython",
    "version": 3
   },
   "file_extension": ".py",
   "mimetype": "text/x-python",
   "name": "python",
   "nbconvert_exporter": "python",
   "pygments_lexer": "ipython3",
   "version": "3.10.13"
  }
 },
 "nbformat": 4,
 "nbformat_minor": 2
}
