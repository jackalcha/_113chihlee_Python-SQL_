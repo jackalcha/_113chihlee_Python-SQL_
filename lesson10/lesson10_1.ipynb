{
 "cells": [
  {
   "cell_type": "code",
   "execution_count": null,
   "metadata": {},
   "outputs": [],
   "source": [
    "#讀取names.txt\n",
    "file = open('names.txt',encoding='utf-8')\n",
    "#讀取檔案文字\n",
    "content:str = file.read()\n",
    "print(content)\n",
    "#關閉stream\n",
    "file.close()\n",
    "print(file.closed)"
   ]
  },
  {
   "cell_type": "code",
   "execution_count": null,
   "metadata": {},
   "outputs": [],
   "source": [
    "#with as 自動close()\n",
    "with open('names.txt',encoding='utf-8') as file:\n",
    "    content:str =file.read()\n",
    "\n",
    "names:list[str] = content.split(sep='\\n')\n",
    "for name in names:\n",
    "    print(name)"
   ]
  },
  {
   "cell_type": "code",
   "execution_count": 9,
   "metadata": {},
   "outputs": [
    {
     "data": {
      "text/plain": [
       "103"
      ]
     },
     "execution_count": 9,
     "metadata": {},
     "output_type": "execute_result"
    }
   ],
   "source": [
    "import random\n",
    "random.randint(100,105)"
   ]
  },
  {
   "cell_type": "code",
   "execution_count": 10,
   "metadata": {},
   "outputs": [
    {
     "data": {
      "text/plain": [
       "'林珍旺'"
      ]
     },
     "execution_count": 10,
     "metadata": {},
     "output_type": "execute_result"
    }
   ],
   "source": [
    "random.choice(names)"
   ]
  },
  {
   "cell_type": "code",
   "execution_count": 14,
   "metadata": {},
   "outputs": [
    {
     "data": {
      "text/plain": [
       "['林瑞喬', '陳淑萍', '盧冠發']"
      ]
     },
     "execution_count": 14,
     "metadata": {},
     "output_type": "execute_result"
    }
   ],
   "source": [
    "student_names:list[str] = random.choices(names,k=3)\n",
    "student_names"
   ]
  },
  {
   "cell_type": "code",
   "execution_count": 18,
   "metadata": {},
   "outputs": [
    {
     "data": {
      "text/plain": [
       "[{'name': '林瑞喬', '國文': 66, '英文': 72, '數學': 85},\n",
       " {'name': '陳淑萍', '國文': 100, '英文': 84, '數學': 98},\n",
       " {'name': '盧冠發', '國文': 93, '英文': 93, '數學': 61}]"
      ]
     },
     "execution_count": 18,
     "metadata": {},
     "output_type": "execute_result"
    }
   ],
   "source": [
    "students:list[dict] = []\n",
    "for student_name in student_names:\n",
    "    student:dict = dict()\n",
    "    student['name'] = student_name\n",
    "    student['國文'] = random.randint(50,100)\n",
    "    student['英文'] = random.randint(50,100)\n",
    "    student['數學'] = random.randint(50,100)\n",
    "    students.append(student)\n",
    "students"
   ]
  }
 ],
 "metadata": {
  "kernelspec": {
   "display_name": "Python 3",
   "language": "python",
   "name": "python3"
  },
  "language_info": {
   "codemirror_mode": {
    "name": "ipython",
    "version": 3
   },
   "file_extension": ".py",
   "mimetype": "text/x-python",
   "name": "python",
   "nbconvert_exporter": "python",
   "pygments_lexer": "ipython3",
   "version": "3.10.13"
  }
 },
 "nbformat": 4,
 "nbformat_minor": 2
}
