{
 "cells": [
  {
   "cell_type": "code",
   "execution_count": 3,
   "metadata": {},
   "outputs": [
    {
     "data": {
      "text/plain": [
       "True"
      ]
     },
     "execution_count": 3,
     "metadata": {},
     "output_type": "execute_result"
    }
   ],
   "source": [
    "import psycopg2\n",
    "import os\n",
    "#from psycopg2 import connect\n",
    "from dotenv import load_dotenv\n",
    "\n",
    "#初始化環境變數\n",
    "load_dotenv()\n"
   ]
  },
  {
   "cell_type": "code",
   "execution_count": 6,
   "metadata": {},
   "outputs": [],
   "source": [
    "#使用環境變數POSTGRE_PASSWORD,取得密碼,並建立connect的實體\n",
    "conn = psycopg2.connect(os.environ['POSTGRE_PASSWORD'])\n",
    "\n",
    "#建立cursor實體,準備執行SQL\n",
    "cur = conn.cursor()\n",
    "\n",
    "sql = '''\n",
    "CREATE TABLE IF NOT EXISTS student(\n",
    "\tid SERIAL PRIMARY KEY,\n",
    "\tname VARCHAR(20),\n",
    "\tchinese SMALLINT,\n",
    "\tenglish SMALLINT,\n",
    "\tmath SMALLINT\n",
    ");\n",
    "'''\n",
    "#執行SQL\n",
    "cur.execute(sql)\n",
    "\n",
    "#確認SQL可以執行\n",
    "conn.commit()\n",
    "\n",
    "#關閉cursor\n",
    "cur.close()\n",
    "\n",
    "#關閉connect\n",
    "conn.close()"
   ]
  },
  {
   "cell_type": "code",
   "execution_count": null,
   "metadata": {},
   "outputs": [],
   "source": [
    "#使用環境變數POSTGRE_PASSWORD,取得密碼,並建立connect的實體\n",
    "conn = psycopg2.connect(os.environ['POSTGRE_PASSWORD'])\n",
    "\n",
    "#建立cursor實體,準備執行SQL\n",
    "cur = conn.cursor()\n",
    "\n",
    "sql = '''\n",
    "INSERT INTO student(name, chinese, english, math)\n",
    "VALUES('陳舜翔',88 ,85 ,86)\n",
    "'''\n",
    "#執行SQL\n",
    "cur.execute(sql)\n",
    "\n",
    "#確認SQL可以執行\n",
    "conn.commit()\n",
    "\n",
    "#關閉cursor\n",
    "cur.close()\n",
    "\n",
    "#關閉connect\n",
    "conn.close()"
   ]
  },
  {
   "cell_type": "markdown",
   "metadata": {},
   "source": [
    "取得資料"
   ]
  },
  {
   "cell_type": "code",
   "execution_count": 4,
   "metadata": {},
   "outputs": [
    {
     "name": "stdout",
     "output_type": "stream",
     "text": [
      "[(1, '張舜翔', 80, 80, 80), (2, '陳舜翔', 88, 85, 86)]\n"
     ]
    }
   ],
   "source": [
    "#使用環境變數POSTGRE_PASSWORD,取得密碼,並建立connect的實體\n",
    "conn = psycopg2.connect(os.environ['POSTGRE_PASSWORD'])\n",
    "\n",
    "#建立cursor實體,準備執行SQL\n",
    "cur = conn.cursor()\n",
    "\n",
    "sql = '''\n",
    "SELECT * \n",
    "FROM student\n",
    "'''\n",
    "#執行SQL\n",
    "cur.execute(sql)\n",
    "\n",
    "#確認SQL可以執行\n",
    "conn.commit()\n",
    "\n",
    "#顯示資料\n",
    "print(cur.fetchall())\n",
    "\n",
    "#關閉cursor\n",
    "cur.close()\n",
    "\n",
    "#關閉connect\n",
    "conn.close()"
   ]
  },
  {
   "cell_type": "markdown",
   "metadata": {},
   "source": [
    "刪除資料"
   ]
  },
  {
   "cell_type": "code",
   "execution_count": 6,
   "metadata": {},
   "outputs": [],
   "source": [
    "#使用環境變數POSTGRE_PASSWORD,取得密碼,並建立connect的實體\n",
    "conn = psycopg2.connect(os.environ['POSTGRE_PASSWORD'])\n",
    "\n",
    "#建立cursor實體,準備執行SQL\n",
    "cur = conn.cursor()\n",
    "\n",
    "sql = '''\n",
    "DROP TABLE IF EXISTS student\n",
    "'''\n",
    "#執行SQL\n",
    "cur.execute(sql)\n",
    "\n",
    "#確認SQL可以執行\n",
    "conn.commit()\n",
    "\n",
    "#關閉cursor\n",
    "cur.close()\n",
    "\n",
    "#關閉connect\n",
    "conn.close()"
   ]
  }
 ],
 "metadata": {
  "kernelspec": {
   "display_name": "Python 3",
   "language": "python",
   "name": "python3"
  },
  "language_info": {
   "codemirror_mode": {
    "name": "ipython",
    "version": 3
   },
   "file_extension": ".py",
   "mimetype": "text/x-python",
   "name": "python",
   "nbconvert_exporter": "python",
   "pygments_lexer": "ipython3",
   "version": "3.10.13"
  }
 },
 "nbformat": 4,
 "nbformat_minor": 2
}
