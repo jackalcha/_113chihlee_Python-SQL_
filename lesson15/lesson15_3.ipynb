{
 "cells": [
  {
   "cell_type": "code",
   "execution_count": 2,
   "metadata": {},
   "outputs": [
    {
     "data": {
      "text/plain": [
       "{'a1': 100, 'a2': 200, 'a3': 300}"
      ]
     },
     "execution_count": 2,
     "metadata": {},
     "output_type": "execute_result"
    }
   ],
   "source": [
    "mydict:dict[str,int] = {}\n",
    "\n",
    "if 'a1' not in mydict:\n",
    "    mydict['a1'] = 100\n",
    "\n",
    "if 'a2' not in mydict:\n",
    "    mydict['a2'] = 200\n",
    "\n",
    "if 'a3' not in mydict:\n",
    "    mydict['a3'] = 300\n",
    "\n",
    "mydict"
   ]
  }
 ],
 "metadata": {
  "kernelspec": {
   "display_name": "Python 3",
   "language": "python",
   "name": "python3"
  },
  "language_info": {
   "codemirror_mode": {
    "name": "ipython",
    "version": 3
   },
   "file_extension": ".py",
   "mimetype": "text/x-python",
   "name": "python",
   "nbconvert_exporter": "python",
   "pygments_lexer": "ipython3",
   "version": "3.10.13"
  }
 },
 "nbformat": 4,
 "nbformat_minor": 2
}
