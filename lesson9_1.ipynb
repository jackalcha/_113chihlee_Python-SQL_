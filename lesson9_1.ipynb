{
 "cells": [
  {
   "cell_type": "code",
   "execution_count": 15,
   "metadata": {},
   "outputs": [
    {
     "name": "stdout",
     "output_type": "stream",
     "text": [
      "張舜翔\n",
      "99\n",
      "88\n",
      "77\n"
     ]
    }
   ],
   "source": [
    "#使用dict建立一筆資料\n",
    "#建立dict實體\n",
    "student:dict[str,any] = {\n",
    "    'name':'張舜翔',\n",
    "    '國文':99,\n",
    "    '英文':88,\n",
    "    '數學':77\n",
    "}\n",
    "print (student['name'])\n",
    "print (student['國文'])\n",
    "print (student['英文'])\n",
    "print (student['數學'])"
   ]
  },
  {
   "cell_type": "code",
   "execution_count": 9,
   "metadata": {},
   "outputs": [
    {
     "name": "stdout",
     "output_type": "stream",
     "text": [
      "10\n",
      "20\n",
      "30\n"
     ]
    }
   ],
   "source": [
    "#建立list實體\n",
    "values:list[int] = [10, 20, 30]\n",
    "print(values[0])\n",
    "print(values[1])\n",
    "print(values[2])"
   ]
  },
  {
   "cell_type": "code",
   "execution_count": 16,
   "metadata": {},
   "outputs": [
    {
     "name": "stdout",
     "output_type": "stream",
     "text": [
      "10\n",
      "20\n",
      "30\n"
     ]
    }
   ],
   "source": [
    "values:list[int] = [10, 20, 30]\n",
    "for value in values:\n",
    "    print(value)"
   ]
  },
  {
   "cell_type": "code",
   "execution_count": 18,
   "metadata": {},
   "outputs": [
    {
     "name": "stdout",
     "output_type": "stream",
     "text": [
      "<class 'str'>\n",
      "key=name\n",
      "value=張舜翔\n",
      "===========\n",
      "<class 'str'>\n",
      "key=國文\n",
      "value=99\n",
      "===========\n",
      "<class 'str'>\n",
      "key=英文\n",
      "value=88\n",
      "===========\n",
      "<class 'str'>\n",
      "key=數學\n",
      "value=77\n",
      "===========\n"
     ]
    }
   ],
   "source": [
    "student:dict[str,any] = {\n",
    "    'name':'張舜翔',\n",
    "    '國文':99,\n",
    "    '英文':88,\n",
    "    '數學':77\n",
    "}\n",
    "\n",
    "for key in student:\n",
    "    print(type(key))\n",
    "    print(f'key={key}')\n",
    "    print(f'value={student[key]}')\n",
    "    print('===========')"
   ]
  },
  {
   "cell_type": "code",
   "execution_count": null,
   "metadata": {},
   "outputs": [],
   "source": []
  },
  {
   "cell_type": "code",
   "execution_count": 21,
   "metadata": {},
   "outputs": [
    {
     "name": "stdout",
     "output_type": "stream",
     "text": [
      "索引:0\n",
      "值是:10\n",
      "=======\n",
      "索引:1\n",
      "值是:20\n",
      "=======\n",
      "索引:2\n",
      "值是:30\n",
      "=======\n"
     ]
    }
   ],
   "source": [
    "values:list[int] = [10, 20, 30]\n",
    "for idx,value in enumerate(values):\n",
    "    print (f'索引:{idx}')\n",
    "    print (f'值是:{value}')\n",
    "    print ('=======')"
   ]
  },
  {
   "cell_type": "code",
   "execution_count": 22,
   "metadata": {},
   "outputs": [
    {
     "data": {
      "text/plain": [
       "{'name': '張舜翔', '國文': 99, '英文': 88, '數學': 77}"
      ]
     },
     "execution_count": 22,
     "metadata": {},
     "output_type": "execute_result"
    }
   ],
   "source": [
    "student:dict[str,any] = {\n",
    "    'name':'張舜翔',\n",
    "    '國文':99,\n",
    "    '英文':88,\n",
    "    '數學':77\n",
    "}\n",
    "student"
   ]
  },
  {
   "cell_type": "code",
   "execution_count": 25,
   "metadata": {},
   "outputs": [
    {
     "name": "stdout",
     "output_type": "stream",
     "text": [
      "name\n",
      "國文\n",
      "英文\n",
      "數學\n"
     ]
    }
   ],
   "source": [
    "for key in student.keys():\n",
    "    print (key)"
   ]
  },
  {
   "cell_type": "code",
   "execution_count": 26,
   "metadata": {},
   "outputs": [
    {
     "name": "stdout",
     "output_type": "stream",
     "text": [
      "張舜翔\n",
      "99\n",
      "88\n",
      "77\n"
     ]
    }
   ],
   "source": [
    "for value in student.values():\n",
    "    print (value)"
   ]
  },
  {
   "cell_type": "code",
   "execution_count": 28,
   "metadata": {},
   "outputs": [
    {
     "name": "stdout",
     "output_type": "stream",
     "text": [
      "name\n",
      "張舜翔\n",
      "===========\n",
      "國文\n",
      "99\n",
      "===========\n",
      "英文\n",
      "88\n",
      "===========\n",
      "數學\n",
      "77\n",
      "===========\n"
     ]
    }
   ],
   "source": [
    "for key,value in student.items():\n",
    "    print (key)\n",
    "    print (value)\n",
    "    print ('===========')"
   ]
  },
  {
   "cell_type": "code",
   "execution_count": 41,
   "metadata": {},
   "outputs": [],
   "source": [
    "students:list[dict] = [\n",
    "    {'name':'張舜翔','國文':99,'英文':88,'數學':77},\n",
    "    {'name':'邱舜翔','國文':99,'英文':88,'數學':77},\n",
    "    {'name':'李舜翔','國文':99,'英文':88,'數學':77}\n",
    "]"
   ]
  },
  {
   "cell_type": "code",
   "execution_count": 43,
   "metadata": {},
   "outputs": [
    {
     "name": "stdout",
     "output_type": "stream",
     "text": [
      "key:name,value:張舜翔\n",
      "key:國文,value:99\n",
      "key:英文,value:88\n",
      "key:數學,value:77\n",
      "===========\n",
      "key:name,value:邱舜翔\n",
      "key:國文,value:99\n",
      "key:英文,value:88\n",
      "key:數學,value:77\n",
      "===========\n",
      "key:name,value:李舜翔\n",
      "key:國文,value:99\n",
      "key:英文,value:88\n",
      "key:數學,value:77\n",
      "===========\n"
     ]
    }
   ],
   "source": [
    "for student in students:\n",
    "    for key,value in student.items():\n",
    "        print(f'key:{key},value:{value}')\n",
    "    print('===========')"
   ]
  }
 ],
 "metadata": {
  "kernelspec": {
   "display_name": "Python 3",
   "language": "python",
   "name": "python3"
  },
  "language_info": {
   "codemirror_mode": {
    "name": "ipython",
    "version": 3
   },
   "file_extension": ".py",
   "mimetype": "text/x-python",
   "name": "python",
   "nbconvert_exporter": "python",
   "pygments_lexer": "ipython3",
   "version": "3.10.13"
  }
 },
 "nbformat": 4,
 "nbformat_minor": 2
}
