{
 "cells": [
  {
   "cell_type": "code",
   "execution_count": 2,
   "metadata": {},
   "outputs": [
    {
     "name": "stdout",
     "output_type": "stream",
     "text": [
      "Hello\n"
     ]
    }
   ],
   "source": [
    "#自訂function\n",
    "def say_hello():\n",
    "    print('Hello')\n",
    "\n",
    "#呼叫function\n",
    "say_hello()"
   ]
  },
  {
   "cell_type": "code",
   "execution_count": 1,
   "metadata": {},
   "outputs": [],
   "source": [
    "def say_hello(name):\n",
    "    print(f'Hello!{name}')"
   ]
  },
  {
   "cell_type": "code",
   "execution_count": 2,
   "metadata": {},
   "outputs": [
    {
     "name": "stdout",
     "output_type": "stream",
     "text": [
      "Hello!張舜翔\n"
     ]
    }
   ],
   "source": [
    "#引數值的呼叫\n",
    "say_hello(\"張舜翔\")"
   ]
  },
  {
   "cell_type": "code",
   "execution_count": 5,
   "metadata": {},
   "outputs": [
    {
     "name": "stdout",
     "output_type": "stream",
     "text": [
      "Hello!張舜翔\n"
     ]
    }
   ],
   "source": [
    "#引數名稱的呼叫\n",
    "say_hello(name='張舜翔')"
   ]
  },
  {
   "cell_type": "code",
   "execution_count": 6,
   "metadata": {},
   "outputs": [],
   "source": [
    "def menu(wine, entree, dessert):\n",
    "    print(f'前酒:{wine}')\n",
    "    print(f'主餐:{entree}')\n",
    "    print(f'甜點:{dessert}')"
   ]
  },
  {
   "cell_type": "code",
   "execution_count": 7,
   "metadata": {},
   "outputs": [
    {
     "name": "stdout",
     "output_type": "stream",
     "text": [
      "前酒:紅酒\n",
      "主餐:牛排\n",
      "甜點:饅頭\n"
     ]
    }
   ],
   "source": [
    "#引數值呼叫,必需衣照參數的順序\n",
    "menu('紅酒','牛排','饅頭')"
   ]
  },
  {
   "cell_type": "code",
   "execution_count": 8,
   "metadata": {},
   "outputs": [
    {
     "name": "stdout",
     "output_type": "stream",
     "text": [
      "前酒:紅酒\n",
      "主餐:牛排\n",
      "甜點:饅頭\n"
     ]
    }
   ],
   "source": [
    "#引數名稱呼叫,不需要依順序\n",
    "menu(entree='牛排',wine='紅酒',dessert='饅頭')"
   ]
  },
  {
   "cell_type": "code",
   "execution_count": 9,
   "metadata": {},
   "outputs": [
    {
     "name": "stdout",
     "output_type": "stream",
     "text": [
      "前酒:紅酒\n",
      "主餐:牛排\n",
      "甜點:饅頭\n"
     ]
    }
   ],
   "source": [
    "#混合呼叫\n",
    "#前面使用引數值\n",
    "#後面使用引數名稱呼叫\n",
    "menu('紅酒',dessert='饅頭',entree='牛排')"
   ]
  },
  {
   "cell_type": "code",
   "execution_count": 10,
   "metadata": {},
   "outputs": [],
   "source": [
    "#參數可以有type hint\n",
    "\n",
    "def menu(wine:str, entree:str, dessert:str):\n",
    "    print(f'前酒:{wine}')\n",
    "    print(f'主餐:{entree}')\n",
    "    print(f'甜點:{dessert}')"
   ]
  },
  {
   "cell_type": "code",
   "execution_count": 11,
   "metadata": {},
   "outputs": [
    {
     "name": "stdout",
     "output_type": "stream",
     "text": [
      "前酒:紅酒\n",
      "主餐:牛排\n",
      "甜點:饅頭\n"
     ]
    }
   ],
   "source": [
    "menu('紅酒',dessert='饅頭',entree='牛排')"
   ]
  },
  {
   "cell_type": "code",
   "execution_count": 15,
   "metadata": {},
   "outputs": [],
   "source": [
    "#function傳出的值\n",
    "def menu(wine:str, entree:str, dessert:str)->dict[str,str]:\n",
    "    return {'前酒':wine,'主餐':entree,'甜點':dessert}"
   ]
  },
  {
   "cell_type": "code",
   "execution_count": 16,
   "metadata": {},
   "outputs": [
    {
     "data": {
      "text/plain": [
       "{'前酒': '紅酒', '主餐': '牛排', '甜點': '饅頭'}"
      ]
     },
     "execution_count": 16,
     "metadata": {},
     "output_type": "execute_result"
    }
   ],
   "source": [
    "menu('紅酒',dessert='饅頭',entree='牛排')"
   ]
  },
  {
   "cell_type": "code",
   "execution_count": 17,
   "metadata": {},
   "outputs": [],
   "source": [
    "#參數的default value\n",
    "def menu(wine:str, entree:str, dessert:str='饅頭')->dict[str,str]:\n",
    "    return {'前酒':wine,'主餐':entree,'甜點':dessert}"
   ]
  },
  {
   "cell_type": "code",
   "execution_count": 20,
   "metadata": {},
   "outputs": [
    {
     "name": "stdout",
     "output_type": "stream",
     "text": [
      "{'前酒': '紅酒', '主餐': '牛排', '甜點': '饅頭'}\n",
      "{'前酒': '紅酒', '主餐': '牛排', '甜點': '水果'}\n"
     ]
    }
   ],
   "source": [
    "print(menu('紅酒','牛排'))\n",
    "print(menu('紅酒','牛排',dessert='水果'))"
   ]
  },
  {
   "cell_type": "code",
   "execution_count": 31,
   "metadata": {},
   "outputs": [],
   "source": [
    "def menu(wine:str, entree:str='牛排', dessert:str='饅頭')->dict[str,str]:\n",
    "    return {'前酒':wine,'主餐':entree,'甜點':dessert}"
   ]
  },
  {
   "cell_type": "code",
   "execution_count": 32,
   "metadata": {},
   "outputs": [
    {
     "name": "stdout",
     "output_type": "stream",
     "text": [
      "{'前酒': '紅酒', '主餐': '牛排', '甜點': '饅頭'}\n",
      "{'前酒': '紅酒', '主餐': '牛排', '甜點': '水果'}\n",
      "{'前酒': '白酒', '主餐': '雞排', '甜點': '水果'}\n"
     ]
    }
   ],
   "source": [
    "print(menu('紅酒'))\n",
    "print(menu('紅酒',dessert='水果'))\n",
    "print(menu('白酒',dessert='水果',entree='雞排'))"
   ]
  },
  {
   "cell_type": "code",
   "execution_count": 33,
   "metadata": {},
   "outputs": [
    {
     "data": {
      "text/plain": [
       "{'前酒': '紅酒', '主餐': '牛排', '甜點': '饅頭'}"
      ]
     },
     "execution_count": 33,
     "metadata": {},
     "output_type": "execute_result"
    }
   ],
   "source": [
    "def menu(wine:str='紅酒', entree:str='牛排', dessert:str='饅頭')->dict[str,str]:\n",
    "    return {'前酒':wine,'主餐':entree,'甜點':dessert}\n",
    "menu()"
   ]
  },
  {
   "cell_type": "code",
   "execution_count": 35,
   "metadata": {},
   "outputs": [
    {
     "name": "stdout",
     "output_type": "stream",
     "text": [
      "()\n",
      "('白襪', '黑襪', '紅襪', '藍襪')\n"
     ]
    }
   ],
   "source": [
    "def menu(*abcd):\n",
    "    print(abcd)\n",
    "\n",
    "menu()\n",
    "menu('白襪','黑襪','紅襪','藍襪')"
   ]
  },
  {
   "cell_type": "code",
   "execution_count": 38,
   "metadata": {},
   "outputs": [
    {
     "name": "stdout",
     "output_type": "stream",
     "text": [
      "{}\n",
      "{'襪1': '白襪', '襪2': '黑襪', '襪3': '紅襪', '襪4': '藍襪'}\n"
     ]
    }
   ],
   "source": [
    "def menu(**abcde):\n",
    "    print(abcde)\n",
    "\n",
    "menu()\n",
    "menu(襪1='白襪',襪2='黑襪',襪3='紅襪',襪4='藍襪')"
   ]
  },
  {
   "cell_type": "code",
   "execution_count": 40,
   "metadata": {},
   "outputs": [
    {
     "name": "stdout",
     "output_type": "stream",
     "text": [
      "1*2*3.0*True.\n"
     ]
    }
   ],
   "source": [
    "print('1',2,3.0,True,sep='*',end='.\\n')"
   ]
  }
 ],
 "metadata": {
  "kernelspec": {
   "display_name": "Python 3",
   "language": "python",
   "name": "python3"
  },
  "language_info": {
   "codemirror_mode": {
    "name": "ipython",
    "version": 3
   },
   "file_extension": ".py",
   "mimetype": "text/x-python",
   "name": "python",
   "nbconvert_exporter": "python",
   "pygments_lexer": "ipython3",
   "version": "3.10.13"
  }
 },
 "nbformat": 4,
 "nbformat_minor": 2
}
